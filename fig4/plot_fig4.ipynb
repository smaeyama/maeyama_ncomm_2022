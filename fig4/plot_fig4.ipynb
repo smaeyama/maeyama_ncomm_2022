{
 "cells": [
  {
   "cell_type": "code",
   "execution_count": null,
   "id": "d158495d-7910-467d-b748-721038ea4e93",
   "metadata": {},
   "outputs": [],
   "source": [
    "import numpy as np\n",
    "import matplotlib.pyplot as plt\n",
    "import xarray as xr\n",
    "\n",
    "ds3m=xr.open_dataset(\"data_netcdf/nl_eDTHe_Te030_x0512y0512z20v32m15_qes.0.nc\")\n",
    "ds3i=xr.open_dataset(\"data_netcdf/nl_eDTHe_Te030_x0128y0032z20v32m15_qes.0.nc\")\n",
    "ds3e=xr.open_dataset(\"data_netcdf/nl_eDTHe_Te030_ele_x0256y0064z20v32m15_qes.0.nc\")\n",
    "### Note that data of the electron heat flux $Q_e$ is normalized by $n_0T_iv_{ti}\\rho_{ti}^2/R^2$\".\n",
    "tau = 3.0\n",
    "\n",
    "plt.style.use('../nature_style.txt')\n",
    "\n",
    "fig=plt.figure(figsize=(3.3,2.5),dpi=600) # figsize=(width,height(inch)),dpi(dots per inch)\n",
    "ax=fig.add_subplot(111)\n",
    "ax.set_xlabel(r\"Poloidal wave number $k_y \\rho_\\mathrm{ti}$\")\n",
    "ax.set_ylabel(r\"Electron energy flux $Q_{\\mathrm{e}k}/(\\Delta k_y \\rho_\\mathrm{ti})$ ($Q_\\mathrm{gB}$)\")\n",
    "ax.plot(ds3m.ky,ds3m.qes/ds3m.ky[1]/tau/np.sqrt(tau)**3,\"s-\",label=\"Multi-scale sim.\",markeredgecolor=\"k\",markersize=4,markeredgewidth=0.3)\n",
    "ax.plot(ds3i.ky,ds3i.qes/ds3i.ky[1]/tau/np.sqrt(tau)**3,\"^-\",label=\"Ion-scale sim.\",markeredgecolor=\"k\",markersize=4,markeredgewidth=0.3)\n",
    "ax.plot(ds3e.ky[1:],ds3e.qes[1:]/ds3e.ky[1]/tau/np.sqrt(tau)**3,\"o-\",label=\"Electron-scale sim.\",markeredgecolor=\"k\",markersize=4,markeredgewidth=0.3)\n",
    "ax.set_xscale(\"log\")\n",
    "ax.set_yscale(\"log\")\n",
    "ax.set_xlim(0.05,20)\n",
    "ax.set_ylim(0.5e-3,1e3)\n",
    "ax.legend()\n",
    "\n",
    "plt.savefig(\"fig4.jpg\",dpi=600)\n",
    "plt.savefig('fig4.svg',bbox_inches=\"tight\")\n",
    "import subprocess\n",
    "subprocess.call('inkscape fig4.svg -M fig4.emf', shell=True)\n",
    "subprocess.call('inkscape fig4.svg -E fig4.eps', shell=True)\n",
    "subprocess.call('inkscape fig4.svg -A fig4.pdf', shell=True)\n",
    "plt.show()\n",
    "\n",
    "print(r\"$Q_gB = n_0 T_e c_a \\rho_a^2/R^2$ defined.\")"
   ]
  },
  {
   "cell_type": "code",
   "execution_count": null,
   "id": "d49a1f73-a2be-40db-b137-703a7b372e1b",
   "metadata": {},
   "outputs": [],
   "source": []
  }
 ],
 "metadata": {
  "kernelspec": {
   "display_name": "Python 3 (ipykernel)",
   "language": "python",
   "name": "python3"
  },
  "language_info": {
   "codemirror_mode": {
    "name": "ipython",
    "version": 3
   },
   "file_extension": ".py",
   "mimetype": "text/x-python",
   "name": "python",
   "nbconvert_exporter": "python",
   "pygments_lexer": "ipython3",
   "version": "3.10.4"
  }
 },
 "nbformat": 4,
 "nbformat_minor": 5
}
