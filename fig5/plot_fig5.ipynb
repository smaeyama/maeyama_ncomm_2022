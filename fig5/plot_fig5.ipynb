{
 "cells": [
  {
   "cell_type": "code",
   "execution_count": null,
   "id": "e202109e-86b3-4b2f-885f-0d0fe4c71ce0",
   "metadata": {},
   "outputs": [],
   "source": [
    "import numpy as np\n",
    "import matplotlib.pyplot as plt\n",
    "import xarray as xr\n",
    "\n",
    "ds=xr.open_dataset(\"data_netcdf/subspace_trans.nc\")\n",
    "# print(ds)\n",
    "# tau = 3.0\n",
    "\n",
    "plt.style.use('../nature_style.txt')\n",
    "\n",
    "fig=plt.figure(figsize=(3.3,4.5),dpi=600) # figsize=(width,height(inch)),dpi(dots per inch)\n",
    "ax1=fig.add_subplot(211)\n",
    "var=ds.jkee\n",
    "# vmax=np.abs(var).max()\n",
    "vmax=np.abs(ds.jkie+ds.jkei).max()*0.2\n",
    "quad1=ax1.pcolormesh(ds.kx,ds.ky,var,cmap=\"seismic\",shading=\"auto\",vmin=-vmax,vmax=vmax)\n",
    "fig.colorbar(quad1,shrink=0.83,aspect=10)\n",
    "ax1.set_xlim(-4,4)\n",
    "ax1.set_ylim(0,5)\n",
    "ax1.set_xlabel(r\"Radial wave number $k_x \\rho_\\mathrm{ti}$\")\n",
    "ax1.set_ylabel(r\"Poloidal wave number $k_y \\rho_\\mathrm{ti}$\")\n",
    "ax1.set_aspect(\"equal\")\n",
    "ax1.set_title(r\"Electron-scale, electron-scale coupling $J_{\\bf k}^{\\Omega_e,\\Omega_e}$\",fontsize=7)\n",
    "\n",
    "ax2=fig.add_subplot(212)\n",
    "var=ds.jkie+ds.jkei\n",
    "# vmax=np.abs(var).max()\n",
    "quad2=ax2.pcolormesh(ds.kx,ds.ky,var,cmap=\"seismic\",shading=\"auto\",vmin=-vmax,vmax=vmax)\n",
    "fig.colorbar(quad2,shrink=0.83,aspect=10)\n",
    "ax2.set_xlim(-4,4)\n",
    "ax2.set_ylim(0,5)\n",
    "ax2.set_xlabel(r\"Radial wave number $k_x \\rho_\\mathrm{ti}$\")\n",
    "ax2.set_ylabel(r\"Poloidal wave number $k_y \\rho_\\mathrm{ti}$\")\n",
    "ax2.set_aspect(\"equal\")\n",
    "ax2.set_title(r\"Ion-scale, electron-scale coupling $2J_{\\bf k}^{\\Omega_i,\\Omega_e}$\",fontsize=7)\n",
    "\n",
    "fig.text(0.06,0.87,\"a\",color=\"k\", fontfamily=\"sans-serif\", fontweight=\"bold\", fontsize=8)\n",
    "fig.text(0.06,0.455,\"b\",color=\"k\", fontfamily=\"sans-serif\", fontweight=\"bold\", fontsize=8)\n",
    "\n",
    "plt.savefig(\"fig5.jpg\",dpi=600)\n",
    "quad1.set_rasterized(True)\n",
    "quad2.set_rasterized(True)\n",
    "plt.savefig('fig5.svg',bbox_inches=\"tight\")\n",
    "import subprocess\n",
    "subprocess.call('inkscape fig5.svg -M fig5.emf', shell=True)\n",
    "subprocess.call('inkscape fig5.svg -E fig5.eps', shell=True)\n",
    "subprocess.call('inkscape fig5.svg -A fig5.pdf', shell=True)\n",
    "plt.show()"
   ]
  },
  {
   "cell_type": "code",
   "execution_count": null,
   "id": "1f1e7f84-566d-48a3-a773-6bbe07963586",
   "metadata": {},
   "outputs": [],
   "source": []
  }
 ],
 "metadata": {
  "kernelspec": {
   "display_name": "Python 3 (ipykernel)",
   "language": "python",
   "name": "python3"
  },
  "language_info": {
   "codemirror_mode": {
    "name": "ipython",
    "version": 3
   },
   "file_extension": ".py",
   "mimetype": "text/x-python",
   "name": "python",
   "nbconvert_exporter": "python",
   "pygments_lexer": "ipython3",
   "version": "3.10.4"
  }
 },
 "nbformat": 4,
 "nbformat_minor": 5
}
