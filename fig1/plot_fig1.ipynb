{
 "cells": [
  {
   "cell_type": "code",
   "execution_count": null,
   "id": "50075016-72dc-4771-a2ef-261c677cd31a",
   "metadata": {},
   "outputs": [],
   "source": [
    "import numpy as np\n",
    "import matplotlib.pyplot as plt\n",
    "\n",
    "data = np.loadtxt(\"lin_eDTHe_Te030_LB_kyscan.dat\")\n",
    "\n",
    "plt.style.use('../nature_style.txt')\n",
    "fig=plt.figure(figsize=(3.3,2.5),dpi=600) # figsize=(width,height(inch)),dpi(dots per inch)\n",
    "plt.style.use('../nature_style.txt')\n",
    "\n",
    "\n",
    "ax=fig.add_subplot(111)\n",
    "ax.set_xlabel(r\"Poloidal wavenumber $k_y$ ($\\rho_\\mathrm{ti}^{-1}$)\")\n",
    "ax.set_ylabel(r\"Linear growth rate $\\gamma$ ($v_\\mathrm{ti}/R_0$), \"+\"\\n\"+r\"real frequency $\\omega_\\mathrm{r}$ ($v_\\mathrm{ti}/R_0$)\")\n",
    "ax.plot(data[:,1],data[:,3],\"o-\",label=r\"$\\gamma$\",markeredgecolor=\"k\",markersize=4,markeredgewidth=0.3)\n",
    "ax.plot(data[:,1],data[:,2]/40,\"o-\",label=r\"$\\omega_\\mathrm{r}/40$\",markeredgecolor=\"k\",markersize=4,markeredgewidth=0.3)\n",
    "ax.set_xscale(\"log\")\n",
    "ax.set_yscale(\"log\")\n",
    "ax.legend()\n",
    "\n",
    "plt.savefig(\"fig1.jpg\",dpi=600)\n",
    "plt.savefig('fig1.svg',bbox_inches=\"tight\")\n",
    "import subprocess\n",
    "subprocess.call('inkscape fig1.svg -M fig1.emf', shell=True)\n",
    "subprocess.call('inkscape fig1.svg -E fig1.eps', shell=True)\n",
    "subprocess.call('inkscape fig1.svg -A fig1.pdf', shell=True)\n",
    "plt.show()"
   ]
  },
  {
   "cell_type": "code",
   "execution_count": null,
   "id": "8bdbdf71-dfe9-4690-88aa-d968e0e85e23",
   "metadata": {},
   "outputs": [],
   "source": []
  }
 ],
 "metadata": {
  "kernelspec": {
   "display_name": "Python 3 (ipykernel)",
   "language": "python",
   "name": "python3"
  },
  "language_info": {
   "codemirror_mode": {
    "name": "ipython",
    "version": 3
   },
   "file_extension": ".py",
   "mimetype": "text/x-python",
   "name": "python",
   "nbconvert_exporter": "python",
   "pygments_lexer": "ipython3",
   "version": "3.10.4"
  }
 },
 "nbformat": 4,
 "nbformat_minor": 5
}
