{
 "cells": [
  {
   "cell_type": "code",
   "execution_count": null,
   "id": "369c8d99-53f8-4f99-9798-2c14ada7899f",
   "metadata": {},
   "outputs": [],
   "source": [
    "import numpy as np\n",
    "import matplotlib.pyplot as plt\n",
    "import xarray as xr\n",
    "\n",
    "eps_r    = 0.18\n",
    "q_0      = 1.42\n",
    "\n",
    "ds1 = xr.open_dataset(\"data_netcdf/txE_resonant_multiscale.nc\")\n",
    "ds2 = xr.open_dataset(\"data_netcdf/txE_resonant_woelectronscale.nc\")\n",
    "ds3 = xr.open_dataset(\"data_netcdf/txE_offresonant_multiscale.nc\")\n",
    "ds4 = xr.open_dataset(\"data_netcdf/txE_offresonant_woelectronscale.nc\")\n",
    "ds_list = [ds1, ds2, ds3, ds4]"
   ]
  },
  {
   "cell_type": "code",
   "execution_count": null,
   "id": "42ef59d2-d2c2-403e-b53f-e41579f31767",
   "metadata": {},
   "outputs": [],
   "source": [
    "fig=plt.figure(figsize=(3.4,2.5),dpi=600) # figsize=(幅,高さ(inch)),dpi(dots per inch)\n",
    "plt.style.use('../nature_style.txt')\n",
    "\n",
    "###\n",
    "label = [r\"Resonant $v=2v_\\mathrm{te}$ (Multi-scale)\", \n",
    "         r\"Resonant $v=2v_\\mathrm{te}$ (w/o electron-scale)\", \n",
    "         r\"Off-resonant $v=2.5v_\\mathrm{te}$ (Multi-scale)\", \n",
    "         r\"Off-resonant $v=2.5v_\\mathrm{te}$ (w/o electron-scale)\"]\n",
    "color = [\"tab:red\", \"k\", \"b\", \"tab:green\"]\n",
    "linestyle = [\"solid\", \"dashed\", \"solid\", \"dashed\"]\n",
    "ax=fig.add_subplot(211)\n",
    "ax.axes.xaxis.set_ticklabels([])\n",
    "ax.set_ylabel(\"Poloidal electric \\n field \"+r\"$E_y$ ($T_\\mathrm{i}/eR_0$)\")\n",
    "for i in range(4):\n",
    "    ds = ds_list[i]\n",
    "    y = ds.y\n",
    "    j0Ey = ds.j0Ey\n",
    "    ax.plot((y-y[0])*q_0/eps_r,j0Ey,label=label[i],c=color[i],linestyle=linestyle[i],lw=1)\n",
    "ax.axhline(0,c=\"k\",lw=0.5)\n",
    "ax.set_xlim(0,1450)\n",
    "ax.set_ylim(-20,20)\n",
    "ax.set_yticks([-15,0,15])\n",
    "fig.legend(loc=\"lower left\",ncol=1,bbox_to_anchor=(0.15,0.88),labelspacing=0)\n",
    "ax=fig.add_subplot(212)\n",
    "ax.set_xlabel(r\"Toroidal path length $y q / \\epsilon_r$ ($\\rho_\\mathrm{ti}$)\")\n",
    "ax.set_ylabel(\"Radial\\n displacement\\n\" + r\"$x$ ($\\rho_\\mathrm{ti}$)\")\n",
    "for i in range(4):\n",
    "    ds = ds_list[i]\n",
    "    y = ds.y\n",
    "    x = ds.x\n",
    "    ax.plot((y-y[0])*q_0/eps_r,x-x[0],label=label[i],c=color[i],linestyle=linestyle[i],lw=1)\n",
    "ax.axhline(0,c=\"k\",lw=0.5)\n",
    "ax.set_xlim(0,1450)\n",
    "ax.set_ylim(-15,50)\n",
    "ax.set_yticks([0,20,40])\n",
    "\n",
    "fig.text(0.045,0.885,\"a\",color=\"k\", fontfamily=\"sans-serif\", fontweight=\"bold\", fontsize=8)\n",
    "fig.text(0.045,0.460,\"b\",color=\"k\", fontfamily=\"sans-serif\", fontweight=\"bold\", fontsize=8)\n",
    "\n",
    "plt.savefig(\"fig2.jpg\",dpi=600)\n",
    "plt.savefig('fig2.svg',bbox_inches=\"tight\")\n",
    "import subprocess\n",
    "subprocess.call('inkscape fig2.svg -M fig2.emf', shell=True)\n",
    "subprocess.call('inkscape fig2.svg -E fig2.eps', shell=True)\n",
    "subprocess.call('inkscape fig2.svg -A fig2.pdf', shell=True)\n",
    "plt.show()"
   ]
  },
  {
   "cell_type": "code",
   "execution_count": null,
   "id": "3e55e4ad-68fe-4037-8081-3adba57a4160",
   "metadata": {},
   "outputs": [],
   "source": []
  },
  {
   "cell_type": "code",
   "execution_count": null,
   "id": "72619893-c7d6-44e0-a22d-a4b280823d2d",
   "metadata": {},
   "outputs": [],
   "source": []
  }
 ],
 "metadata": {
  "kernelspec": {
   "display_name": "Python 3 (ipykernel)",
   "language": "python",
   "name": "python3"
  },
  "language_info": {
   "codemirror_mode": {
    "name": "ipython",
    "version": 3
   },
   "file_extension": ".py",
   "mimetype": "text/x-python",
   "name": "python",
   "nbconvert_exporter": "python",
   "pygments_lexer": "ipython3",
   "version": "3.10.4"
  }
 },
 "nbformat": 4,
 "nbformat_minor": 5
}
